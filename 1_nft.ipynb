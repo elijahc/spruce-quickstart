{
 "cells": [
  {
   "cell_type": "code",
   "execution_count": null,
   "id": "16d187f0-c72f-4233-ac71-53ef03c50aed",
   "metadata": {},
   "outputs": [],
   "source": [
    "import pandas as pd"
   ]
  },
  {
   "cell_type": "code",
   "execution_count": null,
   "id": "6271ee7a-45b8-4978-8b7a-aaeee92b1e9c",
   "metadata": {},
   "outputs": [],
   "source": [
    "nft = pd.read_csv()\n",
    "nft"
   ]
  },
  {
   "cell_type": "code",
   "execution_count": null,
   "id": "00eb6c31-a75b-4248-86f0-7131d708eaab",
   "metadata": {},
   "outputs": [],
   "source": [
    "nft.plot('Date','Num',figsize=(12,6))"
   ]
  },
  {
   "cell_type": "code",
   "execution_count": null,
   "id": "f74e8c38-23f3-4ee7-b45e-f65ee9860611",
   "metadata": {},
   "outputs": [],
   "source": [
    "nft.plot('Date','Number_of_Sales',figsize=(12,6))"
   ]
  },
  {
   "cell_type": "code",
   "execution_count": null,
   "id": "228ba454-f503-407c-8efe-4148c735b0c7",
   "metadata": {},
   "outputs": [],
   "source": [
    "nft.plot('Date',y='Sales_USD',figsize=(12,6))"
   ]
  },
  {
   "cell_type": "code",
   "execution_count": null,
   "id": "d976941c-c9d8-4025-b20a-13ffe56a40a2",
   "metadata": {},
   "outputs": [],
   "source": []
  }
 ],
 "metadata": {
  "kernelspec": {
   "display_name": "Python 3 (ipykernel)",
   "language": "python",
   "name": "python3"
  },
  "language_info": {
   "codemirror_mode": {
    "name": "ipython",
    "version": 3
   },
   "file_extension": ".py",
   "mimetype": "text/x-python",
   "name": "python",
   "nbconvert_exporter": "python",
   "pygments_lexer": "ipython3",
   "version": "3.8.12"
  }
 },
 "nbformat": 4,
 "nbformat_minor": 5
}
