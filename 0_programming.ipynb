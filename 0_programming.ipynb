{
 "cells": [
  {
   "cell_type": "markdown",
   "id": "567052e7-2902-4a88-832f-14fb98cb6fdc",
   "metadata": {
    "tags": []
   },
   "source": [
    "# elijahc's crash course on computer science terminology"
   ]
  },
  {
   "cell_type": "markdown",
   "id": "ad48c2fd-fa8d-48b8-b116-701e35bfb943",
   "metadata": {
    "tags": []
   },
   "source": [
    "## Primitives\n",
    "> Everything is made out of something"
   ]
  },
  {
   "cell_type": "markdown",
   "id": "c684f821-1262-4dfe-95d0-e3b0f289b59b",
   "metadata": {
    "tags": []
   },
   "source": [
    "**Examples**\n",
    "- Earth, wind, fire\n",
    "- Protons, Neutrons, Electrons"
   ]
  },
  {
   "cell_type": "markdown",
   "id": "c21a7750-908c-4d4b-bb74-0d339ea1a8bc",
   "metadata": {
    "tags": []
   },
   "source": [
    "**Programming primitives**\n",
    "\n",
    "| Numbers | Letters                    | Boolean    |\n",
    "|---------|----------------------------|------------|\n",
    "| Integer | Character (the letter 'Q') | True/False |\n",
    "| Float   | String (the word 'Query')  |            |"
   ]
  },
  {
   "cell_type": "markdown",
   "id": "c929be3c-d720-43fc-b240-59076608510a",
   "metadata": {
    "tags": []
   },
   "source": [
    "### Maths"
   ]
  },
  {
   "cell_type": "code",
   "execution_count": 8,
   "id": "db67b6ec-bde1-4ab8-a816-d0de5baabd22",
   "metadata": {},
   "outputs": [
    {
     "data": {
      "text/plain": [
       "2"
      ]
     },
     "execution_count": 8,
     "metadata": {},
     "output_type": "execute_result"
    }
   ],
   "source": [
    "# Maths\n",
    "1+1"
   ]
  },
  {
   "cell_type": "code",
   "execution_count": 25,
   "id": "9f8178c2-6ac4-4733-bb9d-8f99aa4be4ce",
   "metadata": {},
   "outputs": [
    {
     "data": {
      "text/plain": [
       "8"
      ]
     },
     "execution_count": 25,
     "metadata": {},
     "output_type": "execute_result"
    }
   ],
   "source": [
    "2*4"
   ]
  },
  {
   "cell_type": "code",
   "execution_count": 24,
   "id": "ab9ab071-3079-49d4-bd87-732c6fd426f5",
   "metadata": {},
   "outputs": [
    {
     "data": {
      "text/plain": [
       "16"
      ]
     },
     "execution_count": 24,
     "metadata": {},
     "output_type": "execute_result"
    }
   ],
   "source": [
    "# Exponentials\n",
    "2**4"
   ]
  },
  {
   "cell_type": "markdown",
   "id": "d4fcedfe-8096-46d0-a9ab-6df723f0a229",
   "metadata": {
    "tags": []
   },
   "source": [
    "#### Comparison"
   ]
  },
  {
   "cell_type": "code",
   "execution_count": 11,
   "id": "c1972542-a250-4010-aa04-87a9c344db1e",
   "metadata": {},
   "outputs": [
    {
     "data": {
      "text/plain": [
       "True"
      ]
     },
     "execution_count": 11,
     "metadata": {},
     "output_type": "execute_result"
    }
   ],
   "source": [
    "5 > 3"
   ]
  },
  {
   "cell_type": "code",
   "execution_count": 26,
   "id": "d9b9b742-fe66-465f-bbf3-463285350432",
   "metadata": {},
   "outputs": [
    {
     "data": {
      "text/plain": [
       "True"
      ]
     },
     "execution_count": 26,
     "metadata": {},
     "output_type": "execute_result"
    }
   ],
   "source": [
    "# Equality\n",
    "2 == 2.0"
   ]
  },
  {
   "cell_type": "markdown",
   "id": "4cc54229-0c5c-4cf4-962d-e264f698f305",
   "metadata": {
    "tags": []
   },
   "source": [
    "#### Character strings"
   ]
  },
  {
   "cell_type": "code",
   "execution_count": 15,
   "id": "992ce6e7-96e4-4594-b817-f473e0d1d644",
   "metadata": {},
   "outputs": [
    {
     "data": {
      "text/plain": [
       "'Eli'"
      ]
     },
     "execution_count": 15,
     "metadata": {},
     "output_type": "execute_result"
    }
   ],
   "source": [
    "# Concatenation\n",
    "'E'+'l'+'i'"
   ]
  },
  {
   "cell_type": "code",
   "execution_count": 27,
   "id": "4ead7c51-7c1c-472b-8e25-6cd82aec0d40",
   "metadata": {},
   "outputs": [
    {
     "data": {
      "text/plain": [
       "'ELIJAH'"
      ]
     },
     "execution_count": 27,
     "metadata": {},
     "output_type": "execute_result"
    }
   ],
   "source": [
    "# Make it loud - upcase\n",
    "'elijah'.upper()"
   ]
  },
  {
   "cell_type": "code",
   "execution_count": 28,
   "id": "2d77d68b-e83c-45ba-8dd3-3d2e913f5483",
   "metadata": {},
   "outputs": [
    {
     "data": {
      "text/plain": [
       "'Elijah'"
      ]
     },
     "execution_count": 28,
     "metadata": {},
     "output_type": "execute_result"
    }
   ],
   "source": [
    "# Treat it like a noun\n",
    "'ELIJAH'.capitalize()"
   ]
  },
  {
   "cell_type": "markdown",
   "id": "4b27999c-10c9-4d07-a2aa-eb4b587288d8",
   "metadata": {
    "tags": []
   },
   "source": [
    "## 2. Variables"
   ]
  },
  {
   "cell_type": "markdown",
   "id": "1e9fd163-2abc-446f-bb25-eefcf1ea8c64",
   "metadata": {
    "tags": []
   },
   "source": [
    "## 3. Data Structures\n",
    "> Special purpose collections to organize your primitives, variables, or even other structures\n",
    "\n",
    "> **List** | **Dictionary** | Tuple | Set"
   ]
  },
  {
   "cell_type": "markdown",
   "id": "c1f8b767-52c1-4413-9721-22bc119030fa",
   "metadata": {},
   "source": [
    "#### 3.1 List\n",
    "> Collection organized as a sequence that can be ***sorted***, prepended, appended"
   ]
  },
  {
   "cell_type": "code",
   "execution_count": 46,
   "id": "0a25d711-c714-4daf-a3a5-436a5ddd0198",
   "metadata": {},
   "outputs": [
    {
     "name": "stdout",
     "output_type": "stream",
     "text": [
      "3.0 4.0 \n",
      "\n",
      "score #1:  4.0\n",
      "score #3:  3.9\n"
     ]
    }
   ],
   "source": [
    "letters = ['a','b','c']\n",
    "\n",
    "\n",
    "scores = [4.0, 3.8, 3.9, 3.0]\n",
    "print(min(scores), max(scores),'\\n')\n",
    "\n",
    "# Retrieved by index\n",
    "print('score #1: ', scores[0])\n",
    "print('score #3: ', scores[2])"
   ]
  },
  {
   "cell_type": "markdown",
   "id": "eddde298-2dca-4a67-b8c6-482c2e3f5735",
   "metadata": {},
   "source": [
    "#### 3.2 Dictionary\n",
    "> Collection of items organized by unique labels\n",
    "- Examples: Actual dictionary, phone book, contact list, "
   ]
  },
  {
   "cell_type": "code",
   "execution_count": 37,
   "id": "99015ff2-5a5e-4bdf-8d47-24be512714f3",
   "metadata": {},
   "outputs": [
    {
     "name": "stdout",
     "output_type": "stream",
     "text": [
      "elijah.christensen@cuanschutz.edu \n",
      "\n",
      "k:  dict_keys(['elijah', 'nathan'])\n",
      "v:  dict_values(['elijah.christensen@cuanschutz.edu', 'nathan.clendenen@cuanschutz.edu'])\n"
     ]
    }
   ],
   "source": [
    "# Mapping is always of the form key -> value\n",
    "my_rolodex = {\n",
    "    'elijah':'elijah.christensen@cuanschutz.edu',\n",
    "    'nathan':'nathan.clendenen@cuanschutz.edu'\n",
    "}\n",
    "\n",
    "# Retrieve by key (not ordered)\n",
    "print(my_rolodex['elijah'],'\\n')\n",
    "\n",
    "# Show keys\n",
    "print('k: ', my_rolodex.keys())\n",
    "\n",
    "# Show values\n",
    "print('v: ', my_rolodex.values())"
   ]
  },
  {
   "cell_type": "code",
   "execution_count": 38,
   "id": "74229473-2c59-4185-bf2c-405daea4e688",
   "metadata": {},
   "outputs": [
    {
     "name": "stdout",
     "output_type": "stream",
     "text": [
      "username :  elijahc\n",
      "password :  yeahright\n",
      "email :  elijahc@null.net\n"
     ]
    }
   ],
   "source": [
    "# Identity or metadata\n",
    "acct = {\n",
    "    'username':'elijahc',\n",
    "    'password':'yeahright',\n",
    "    'email':'elijahc@null.net'\n",
    "}\n",
    "\n",
    "# iterate\n",
    "for k,v in acct.items():\n",
    "    print(k,': ',v)"
   ]
  },
  {
   "cell_type": "markdown",
   "id": "3b8170da-0b7c-4123-8db9-4067f4764153",
   "metadata": {},
   "source": [
    "### Tuple"
   ]
  },
  {
   "cell_type": "markdown",
   "id": "495ee2e9-7a34-4951-8032-2e1b10b73d41",
   "metadata": {},
   "source": [
    "### Set"
   ]
  },
  {
   "cell_type": "code",
   "execution_count": null,
   "id": "576326b5-b1de-4644-a7b4-afa1245dbc57",
   "metadata": {},
   "outputs": [],
   "source": []
  }
 ],
 "metadata": {
  "kernelspec": {
   "display_name": "Python 3 (ipykernel)",
   "language": "python",
   "name": "python3"
  },
  "language_info": {
   "codemirror_mode": {
    "name": "ipython",
    "version": 3
   },
   "file_extension": ".py",
   "mimetype": "text/x-python",
   "name": "python",
   "nbconvert_exporter": "python",
   "pygments_lexer": "ipython3",
   "version": "3.8.12"
  },
  "toc-autonumbering": true,
  "toc-showcode": false,
  "toc-showmarkdowntxt": false,
  "toc-showtags": false
 },
 "nbformat": 4,
 "nbformat_minor": 5
}
