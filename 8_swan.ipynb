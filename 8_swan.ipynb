{
 "cells": [
  {
   "cell_type": "code",
   "execution_count": 3,
   "id": "c5c12628-3549-42f1-9a4c-62a87bb9b2dd",
   "metadata": {},
   "outputs": [],
   "source": [
    "from tricorder.swan import SWAN\n",
    "from tricorder.procedure_codesets import cabg_names"
   ]
  },
  {
   "cell_type": "code",
   "execution_count": 2,
   "id": "75501f09-5490-42b7-9f29-61a1a51f34db",
   "metadata": {},
   "outputs": [],
   "source": [
    "swan = SWAN()"
   ]
  },
  {
   "cell_type": "code",
   "execution_count": null,
   "id": "3cf384e8-48d9-4a1d-8dea-90aeb76ddb78",
   "metadata": {},
   "outputs": [],
   "source": []
  },
  {
   "cell_type": "code",
   "execution_count": 4,
   "id": "a191db5b-3373-4e31-869e-4b40cae76cd1",
   "metadata": {},
   "outputs": [
    {
     "data": {
      "text/plain": [
       "['CORONARY ARTERY BYPASS GRAFT TIMES 1-5 (CABG)',\n",
       " 'CORONARY ARTERY BYPASS GRAFT TIMES 1-5 (CABG) REDO',\n",
       " 'CORONARY ARTERY BYPASS GRAFT TIMES 1-5 (CABG) WITH TRANSMYOCARDIAL REVASCULIZATION (TMR) LASER',\n",
       " 'CORONARY ARTERY BYPASS GRAFT TIMES 1-5 (CABG) OFF PUMP']"
      ]
     },
     "execution_count": 4,
     "metadata": {},
     "output_type": "execute_result"
    }
   ],
   "source": [
    "cabg_names"
   ]
  },
  {
   "cell_type": "code",
   "execution_count": 6,
   "id": "1ffa02f1-d938-42f1-9d79-4bd1e671dfeb",
   "metadata": {},
   "outputs": [
    {
     "data": {
      "text/plain": [
       "<tricorder.tables.Table at 0x7f9412f5f3a0>"
      ]
     },
     "execution_count": 6,
     "metadata": {},
     "output_type": "execute_result"
    }
   ],
   "source": [
    "# Find column names of procedures table\n",
    "swan.procedures"
   ]
  },
  {
   "cell_type": "code",
   "execution_count": null,
   "id": "7a2304a1-2d15-455e-951c-668bbfdad513",
   "metadata": {},
   "outputs": [],
   "source": []
  }
 ],
 "metadata": {
  "kernelspec": {
   "display_name": "Python 3 (ipykernel)",
   "language": "python",
   "name": "python3"
  },
  "language_info": {
   "codemirror_mode": {
    "name": "ipython",
    "version": 3
   },
   "file_extension": ".py",
   "mimetype": "text/x-python",
   "name": "python",
   "nbconvert_exporter": "python",
   "pygments_lexer": "ipython3",
   "version": "3.8.12"
  }
 },
 "nbformat": 4,
 "nbformat_minor": 5
}
